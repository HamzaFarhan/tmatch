{
 "cells": [
  {
   "cell_type": "code",
   "execution_count": 1,
   "metadata": {},
   "outputs": [
    {
     "name": "stdout",
     "output_type": "stream",
     "text": [
      "The autoreload extension is already loaded. To reload it, use:\n",
      "  %reload_ext autoreload\n"
     ]
    }
   ],
   "source": [
    "from app.match import MatchData, create_match_df\n",
    "\n",
    "%load_ext autoreload\n",
    "%autoreload 2\n",
    "%reload_ext autoreload"
   ]
  },
  {
   "cell_type": "code",
   "execution_count": 2,
   "metadata": {},
   "outputs": [],
   "source": [
    "data_path = \"resumes/0caeea25-ce38-4f7d-b4ac-c5ec9b7c4d84.pdf\"\n",
    "data = MatchData(\n",
    "    # text=\"My name is Mike Deen from LA and I am a Machine Learning Dev good at python and pytorch working at Netflix since 2019 and I have a BSCS from MIT. I previously worked at Google.\",\n",
    "    # text=\"My name is Mike Deen\",\n",
    "    data_path=data_path,\n",
    "    text_file_name=\"test_resume.txt\",\n",
    "    extension=\".txt\",\n",
    "    tenantid=\"ten_1234\",\n",
    "    segs_folder=\"exp/segs\",\n",
    "    ems_folder=\"exp/ems/\",\n",
    "    ner_folder=\"exp/ner/\",\n",
    "    # meta_data={\n",
    "    #     \"Skills\": [\"Python\", \"Java\"],\n",
    "    #     \"AdditionalJobTitles\": [\"Software Engineer\", \"Web Developer\"],\n",
    "    # },\n",
    ")"
   ]
  },
  {
   "cell_type": "code",
   "execution_count": 3,
   "metadata": {},
   "outputs": [
    {
     "data": {
      "text/plain": [
       "{'data_path': 'resumes/0caeea25-ce38-4f7d-b4ac-c5ec9b7c4d84.pdf',\n",
       " 'text': 'My name is Mike Deen from LA and I am a Machine Learning Dev good at python and pytorch working at Netflix since 2019 and I have a BSCS from MIT. I previously worked at Google.',\n",
       " 'text_file_name': 'test_resume.txt',\n",
       " 'extension': '.txt',\n",
       " 'tenantid': 'ten_1234',\n",
       " 'segs_folder': 'exp/segs/',\n",
       " 'ems_folder': 'exp/ems/',\n",
       " 'ner_folder': 'exp/ner/',\n",
       " 'meta_data': {}}"
      ]
     },
     "execution_count": 3,
     "metadata": {},
     "output_type": "execute_result"
    }
   ],
   "source": [
    "data.model_dump()"
   ]
  },
  {
   "cell_type": "code",
   "execution_count": 8,
   "metadata": {},
   "outputs": [],
   "source": [
    "data.extension = \".pdf\""
   ]
  },
  {
   "cell_type": "code",
   "execution_count": 6,
   "metadata": {},
   "outputs": [
    {
     "name": "stdout",
     "output_type": "stream",
     "text": [
      "\n",
      "\n",
      "MATCH DATA: {'data_path': 'resumes/0caeea25-ce38-4f7d-b4ac-c5ec9b7c4d84.pdf', 'text': '', 'text_file_name': 'test_resume.txt', 'extension': '.txt', 'tenantid': 'ten_1234', 'segs_folder': 'exp/segs/', 'ems_folder': 'exp/ems/', 'ner_folder': 'exp/ner/', 'meta_data': {}, 'task_folder': '/tmp/1a2cfe2dbc7e437e', 'task_id': '1a2cfe2dbc7e437e'}\n",
      "\n",
      "\n",
      "\u001b[36mInserting key 1a2cfe2dbc7e437e with value {'DATA_STATUS': 'STARTED'}\u001b[0m\n",
      "\u001b[36mInserting key 1a2cfe2dbc7e437e with value {'DATA_STATUS': 'EXTRACTION'}\u001b[0m\n",
      "\u001b[36m\n",
      "\n",
      "Extracting text from PDF file: resumes/0caeea25-ce38-4f7d-b4ac-c5ec9b7c4d84.pdf\n",
      "\n",
      "\u001b[0m\n"
     ]
    },
    {
     "name": "stdout",
     "output_type": "stream",
     "text": [
      "\u001b[36mInserting key 1a2cfe2dbc7e437e with value {'DATA_STATUS': 'EXTRACTION', 'EXTRACTION_PROGRESS': '1/1'}\u001b[0m\n",
      "\u001b[32m\n",
      "\n",
      "TASK: {'DATA_STATUS': 'EXTRACTION', 'EXTRACTION_PROGRESS': '1/1'}\n",
      "\n",
      "\u001b[0m\n",
      "\u001b[36mInserting key 1a2cfe2dbc7e437e with value {'DATA_STATUS': 'SEGMENTATION', 'EXTRACTION_PROGRESS': '1/1'}\u001b[0m\n",
      "\u001b[36mInserting key 1a2cfe2dbc7e437e with value {'DATA_STATUS': 'SEGMENTATION', 'EXTRACTION_PROGRESS': '1/1', 'SEGMENTATION_PROGRESS': '1/1'}\u001b[0m\n",
      "\u001b[32m\n",
      "\n",
      "TASK: {'DATA_STATUS': 'SEGMENTATION', 'EXTRACTION_PROGRESS': '1/1', 'SEGMENTATION_PROGRESS': '1/1'}\n",
      "\n",
      "\u001b[0m\n",
      "\u001b[36mInserting key 1a2cfe2dbc7e437e with value {'DATA_STATUS': 'EMBEDDINGS', 'EXTRACTION_PROGRESS': '1/1', 'SEGMENTATION_PROGRESS': '1/1'}\u001b[0m\n",
      "\u001b[36mInserting key 1a2cfe2dbc7e437e with value {'DATA_STATUS': 'EMBEDDINGS', 'EXTRACTION_PROGRESS': '1/1', 'SEGMENTATION_PROGRESS': '1/1', 'EMBEDDINGS_PROGRESS': '1/1'}\u001b[0m\n",
      "\u001b[32m\n",
      "\n",
      "TASK: {'DATA_STATUS': 'EMBEDDINGS', 'EXTRACTION_PROGRESS': '1/1', 'SEGMENTATION_PROGRESS': '1/1', 'EMBEDDINGS_PROGRESS': '1/1'}\n",
      "\n",
      "\u001b[0m\n",
      "\u001b[36mInserting key 1a2cfe2dbc7e437e with value {'DATA_STATUS': 'NER', 'EXTRACTION_PROGRESS': '1/1', 'SEGMENTATION_PROGRESS': '1/1', 'EMBEDDINGS_PROGRESS': '1/1'}\u001b[0m\n",
      "\u001b[36mInserting key 1a2cfe2dbc7e437e with value {'DATA_STATUS': 'NER', 'EXTRACTION_PROGRESS': '1/1', 'SEGMENTATION_PROGRESS': '1/1', 'EMBEDDINGS_PROGRESS': '1/1', 'NER_PROGRESS': '1/1'}\u001b[0m\n",
      "\u001b[32m\n",
      "\n",
      "TASK: {'DATA_STATUS': 'NER', 'EXTRACTION_PROGRESS': '1/1', 'SEGMENTATION_PROGRESS': '1/1', 'EMBEDDINGS_PROGRESS': '1/1', 'NER_PROGRESS': '1/1'}\n",
      "\n",
      "\u001b[0m\n",
      "\u001b[36mInserting key 1a2cfe2dbc7e437e with value {'DATA_STATUS': 'COMPLETED'}\u001b[0m\n"
     ]
    }
   ],
   "source": [
    "df = create_match_df(data)"
   ]
  },
  {
   "cell_type": "code",
   "execution_count": 21,
   "metadata": {},
   "outputs": [
    {
     "data": {
      "text/plain": [
       "[{'name': ['Kranthi Rekha'],\n",
       "  'first_name': ['Kranthi'],\n",
       "  'last_name': ['Rekha'],\n",
       "  'email': ['kranthirekhap@gmail.com'],\n",
       "  'phone': ['1 (506) -899-1442'],\n",
       "  'location': ['Moncton'],\n",
       "  'edu_institutions': ['Jawaharlal Nehru Technological University'],\n",
       "  'highest_degree': ['Bachelor of Engineering'],\n",
       "  'companies': ['Chan Zuckerberg Initiative',\n",
       "   'Lifesize',\n",
       "   'Atlantic lottery Corporation',\n",
       "   'Computer Science Corporation',\n",
       "   'Digit Secure India PVT Limited'],\n",
       "  'titles': ['Senior Software Engineer',\n",
       "   'Senior Software Developer',\n",
       "   'Web developer (Adobe Experience Manager)',\n",
       "   'Business Associate (Sr Software design)',\n",
       "   'Programmer Analyst'],\n",
       "  'skills': ['Programming/Computer Skills',\n",
       "   'Typescript',\n",
       "   'ReactJS',\n",
       "   'Redux',\n",
       "   'CSS3',\n",
       "   'Bootstrap',\n",
       "   'ASP NET',\n",
       "   'Nodejs',\n",
       "   'J2EE',\n",
       "   'JSP',\n",
       "   'HTML',\n",
       "   'PL/SQL',\n",
       "   'JDBC',\n",
       "   'Web Services',\n",
       "   'Jest',\n",
       "   'Selenium WebDriver',\n",
       "   'Automation Testing (QTP)',\n",
       "   'MS Visio',\n",
       "   'HP QC'],\n",
       "  'certifications': ['Certified Scrum Master',\n",
       "   'Microsoft Certified Application Developer (MCAD) in NET',\n",
       "   'International Software Testing Qualification Board (ISTQB K4)']}]"
      ]
     },
     "execution_count": 21,
     "metadata": {},
     "output_type": "execute_result"
    }
   ],
   "source": [
    "df.to_dict(orient=\"list\")[\"ner\"]"
   ]
  },
  {
   "cell_type": "code",
   "execution_count": null,
   "metadata": {},
   "outputs": [],
   "source": []
  }
 ],
 "metadata": {
  "kernelspec": {
   "display_name": ".venv",
   "language": "python",
   "name": "python3"
  },
  "language_info": {
   "codemirror_mode": {
    "name": "ipython",
    "version": 3
   },
   "file_extension": ".py",
   "mimetype": "text/x-python",
   "name": "python",
   "nbconvert_exporter": "python",
   "pygments_lexer": "ipython3",
   "version": "3.11.5"
  }
 },
 "nbformat": 4,
 "nbformat_minor": 2
}
